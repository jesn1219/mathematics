{
 "cells": [
  {
   "cell_type": "code",
   "execution_count": 1,
   "metadata": {},
   "outputs": [],
   "source": [
    "# this file is for testing the SVD algorithm\n",
    "\n",
    "import numpy as np\n",
    "import matplotlib.pyplot as plt\n"
   ]
  },
  {
   "cell_type": "code",
   "execution_count": 25,
   "metadata": {},
   "outputs": [],
   "source": [
    "import numpy as np\n",
    "import pandas as pd\n",
    "from sklearn.decomposition import TruncatedSVD\n",
    "from sklearn import datasets\n",
    "import plotly.express as px\n",
    "import plotly.io as pio\n",
    "\n",
    "# 데이터 불러오기\n",
    "iris = datasets.load_iris()\n",
    "X = iris.data\n",
    "y = iris.target\n",
    "target_names = iris.target_names\n",
    "\n",
    "# SVD 분석\n",
    "svd = TruncatedSVD(n_components=3)\n",
    "X_svd = svd.fit_transform(X)\n",
    "\n",
    "# 결과 데이터프레임 생성\n",
    "df = pd.DataFrame(X_svd, columns=[\"첫 번째 성분\", \"두 번째 성분\", \"세 번째 성분\"])\n",
    "df[\"species\"] = pd.Categorical.from_codes(iris.target, iris.target_names)\n",
    "\n",
    "# 시각화 및 HTML 파일 저장\n",
    "fig = px.scatter_3d(df, x=\"첫 번째 성분\", y=\"두 번째 성분\", z=\"세 번째 성분\", color=\"species\")\n",
    "fig.update_layout(title=\"SVD 분석 결과 시각화\")\n",
    "fig.write_html(\"svd_iris_3D_interactive.html\")\n"
   ]
  },
  {
   "cell_type": "code",
   "execution_count": null,
   "metadata": {},
   "outputs": [],
   "source": []
  }
 ],
 "metadata": {
  "kernelspec": {
   "display_name": "env",
   "language": "python",
   "name": "python3"
  },
  "language_info": {
   "codemirror_mode": {
    "name": "ipython",
    "version": 3
   },
   "file_extension": ".py",
   "mimetype": "text/x-python",
   "name": "python",
   "nbconvert_exporter": "python",
   "pygments_lexer": "ipython3",
   "version": "3.8.16"
  },
  "orig_nbformat": 4
 },
 "nbformat": 4,
 "nbformat_minor": 2
}
